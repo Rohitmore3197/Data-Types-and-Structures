{
  "nbformat": 4,
  "nbformat_minor": 0,
  "metadata": {
    "colab": {
      "provenance": []
    },
    "kernelspec": {
      "name": "python3",
      "display_name": "Python 3"
    },
    "language_info": {
      "name": "python"
    }
  },
  "cells": [
    {
      "cell_type": "markdown",
      "source": [
        "#Data Types and Structures"
      ],
      "metadata": {
        "id": "vj89GFIq0wit"
      }
    },
    {
      "cell_type": "markdown",
      "source": [
        "1. What are data structures, and why are they important?\n",
        "- a) Data structures are ways to organize, store, and manage data in a computer so that it can be accessed and modified efficiently. Think of them as containers for data, but each container has different properties and rules about how you can use it.\n",
        "- b) important:\n",
        "* Efficiency: They help programs run faster. For example, finding an item in a list is slower than in a set because of how the data is stored.\n",
        "* Organization: They allow you to organize data logically, making your code easier to read and maintain\n",
        "* Memory Management: Some data structures use memory more efficiently than others.\n",
        "* Problem Solving: Many algorithms are designed to work with specific data structures. Choosing the right structure can make solving a problem easier.\n",
        "* Scalability: When working with large amounts of data, the right data structure ensures the program doesn’t slow down."
      ],
      "metadata": {
        "id": "_5DfFjoo1Pga"
      }
    },
    {
      "cell_type": "markdown",
      "source": [
        "2. Explain the difference between mutable and immutable data types with examples?\n",
        "- a) Mutable: Data types whose value can be changed after creation."
      ],
      "metadata": {
        "id": "_oVBPyw-1M2V"
      }
    },
    {
      "cell_type": "code",
      "source": [
        "#examples for mutable-\n",
        "\n",
        "my_list = [1, 2, 3]\n",
        "print(my_list)        # Output: [1, 2, 3]\n",
        "\n",
        "my_list[0] = 10       # Changing the first element\n",
        "print(my_list)        # Output: [10, 2, 3]\n",
        "\n",
        "my_list.append(4)     # Adding a new element\n",
        "print(my_list)"
      ],
      "metadata": {
        "colab": {
          "base_uri": "https://localhost:8080/"
        },
        "id": "bgIF92vY3RQk",
        "outputId": "2a884fa2-2a08-4196-9cd7-b4bc0ee7a37b"
      },
      "execution_count": null,
      "outputs": [
        {
          "output_type": "stream",
          "name": "stdout",
          "text": [
            "[1, 2, 3]\n",
            "[10, 2, 3]\n",
            "[10, 2, 3, 4]\n"
          ]
        }
      ]
    },
    {
      "cell_type": "markdown",
      "source": [
        "- b) Immutable: Data types whose value cannot be changed after creation."
      ],
      "metadata": {
        "id": "DCDVIAO31M47"
      }
    },
    {
      "cell_type": "code",
      "source": [
        "#examples for immutable-\n",
        "\n",
        "my_str = \"Hello\"\n",
        "print(my_str)          # Output: Hello\n",
        "\n",
        "my_str[0] = \"h\"        # Raises a TypeError: 'str' object does not support item assignment\n",
        "\n",
        "my_str = \"h\" + my_str[1:]\n",
        "\n",
        "print(my_str)"
      ],
      "metadata": {
        "id": "CzX4EwIQ4CdT"
      },
      "execution_count": null,
      "outputs": []
    },
    {
      "cell_type": "markdown",
      "source": [
        "3. What are the main differences between lists and tuples in Python?\n",
        "- a) List are Mutable – You can change, add, or remove items after the list is created.\n",
        "* Heterogeneous: Items can be of different data types (int, str, float, etc.).\n",
        "- Example-\n",
        "* my_list = [1, 2, 3]\n",
        "my_list[0] = 10   # Allowed\n",
        "print(my_list)  # Output: [10, 2, 3]\n",
        "\n",
        "\n",
        "- b) Tuple are Immutable – Once a tuple is created, you cannot change, add, or remove items.\n",
        "* Heterogeneous: Items can be of different data types.\n",
        "- exaple-\n",
        "* my_tuple = (1, 2, 3)\n",
        "my_tuple[0] = 10  #Error"
      ],
      "metadata": {
        "id": "_cRGCM5o1M7P"
      }
    },
    {
      "cell_type": "markdown",
      "source": [
        "4. Describe how dictionaries store data?\n",
        "- A dictionary in Python is a collection of key-value pairs that is unordered (in older Python versions), mutable, and does not allow duplicate keys. Dictionaries are used when you want to associate values with unique identifiers (keys)."
      ],
      "metadata": {
        "id": "DjrntzRG1M-i"
      }
    },
    {
      "cell_type": "markdown",
      "source": [
        "5. Why might you use a set instead of a list in Python?\n",
        "\n",
        "- Might choose a set over a list in Python for several reasons, depending on what we want to achieve with your data.\n",
        "- Reasons to Use a Set Instead of a List: a) Uniqueness (No Duplicates):, b) Fast Membership Testing:, c) Set Operations:, d) Unordered Collection:,\n",
        "- Use a set when we need unique elements, fast lookups, or want to perform mathematical set operations. Use a list when the order of elements matters or when we need duplicates."
      ],
      "metadata": {
        "id": "_bjiIaB61NBQ"
      }
    },
    {
      "cell_type": "markdown",
      "source": [
        "6. What is a string in Python, and how is it different from a list?\n",
        "- A string in Python is a sequence of characters enclosed in single ('), double (\"), or triple quotes (''' or \"\"\"). Strings are used to represent textual data.\n",
        "\n",
        "- String are immutable, Operations used Concatenation, slicing, methods for text., Syntax used \" \" or ' ' or \"\"\" \"\"\"\n",
        "- List are mutable, Operations used Adding, removing, modifying items, slicing., Syntax used [ ] brackets"
      ],
      "metadata": {
        "id": "0z9XovjN1ND4"
      }
    },
    {
      "cell_type": "markdown",
      "source": [
        "7. How do tuples ensure data integrity in Python?\n",
        "- Tuples ensure data integrity in Python primarily because they are immutable.\n",
        "1. Immutability Protects Data\n",
        "\n",
        "Once a tuple is created, its elements cannot be changed, added, or removed.\n",
        "\n",
        "This prevents accidental modification of important data.\n",
        "\n",
        "2. Safe as Dictionary Keys\n",
        "\n",
        "Tuples can be used as keys in dictionaries because they are immutable, whereas lists cannot.\n",
        "\n",
        "This ensures that the key’s value cannot change, which is crucial for reliable lookups.\n",
        "\n",
        "3. Reliable Function Returns\n",
        "\n",
        "Tuples are often used to return multiple values from functions.\n",
        "\n",
        "Using a tuple ensures that the returned data cannot be accidentally modified, maintaining integrity.\n",
        "\n"
      ],
      "metadata": {
        "id": "niqpN6eL1NGN"
      }
    },
    {
      "cell_type": "markdown",
      "source": [
        "8. What is a hash table, and how does it relate to dictionaries in Python?\n",
        "\n",
        "- A hash table is a data structure that stores data as key-value pairs and allows fast access to values based on their keys.\n",
        "\n",
        "- In Python, dictionaries (dict) are implemented using hash tables.\n",
        "\n",
        "- When you create a dictionary:\n",
        "\n",
        "my_dict = {\"name\": \"Rohit\", \"age\": 25}\n",
        "\n",
        "\n",
        "- Python computes a hash for each key (\"name\" and \"age\") to decide where to store the values internally.\n",
        "\n",
        "- When you access a value:\n",
        "\n",
        "print(my_dict[\"name\"])  # Output: Rohit\n",
        "\n",
        "\n",
        "-Python uses the hash of the key to directly locate the value—this is why dictionary lookups are so fast."
      ],
      "metadata": {
        "id": "qOW-1ZMR1NKc"
      }
    },
    {
      "cell_type": "markdown",
      "source": [
        "9. Can lists contain different data types in Python?\n",
        "\n",
        "- lists can contain different data types in the same list.\n",
        "- Python lists are heterogeneous, meaning they can store elements of any data type.\n",
        "- You can even mix numbers, strings, booleans, other lists, tuples, dictionaries, etc. in a single list."
      ],
      "metadata": {
        "id": "iYVMm_RnAsN-"
      }
    },
    {
      "cell_type": "markdown",
      "source": [
        "10. Explain why strings are immutable in Python?\n",
        "\n",
        " - Strings in Python are immutable, meaning once a string is created, its characters cannot be changed. This is by design, and there are several reasons for this:\n",
        " 1. Memory Efficiency\n",
        "\n",
        "Strings are stored in memory in a way that allows reusing identical strings.\n",
        "\n",
        "If strings were mutable, changing one string could affect all references to that string in memory.\n",
        "\n",
        "Immutability allows Python to optimize memory usage.\n",
        "\n",
        "2. Hashing for Dictionaries and Sets\n",
        "\n",
        "Strings can be used as keys in dictionaries and elements in sets.\n",
        "\n",
        "Dictionary keys and set elements require a hash value that does not change.\n",
        "\n",
        "If strings were mutable, their hash could change after being used as a key, breaking the dictionary or set.\n",
        "\n",
        "3. Thread Safety\n",
        "\n",
        "Immutability makes strings safe to use across multiple threads without worrying about one thread changing the string while another is using it.\n",
        "\n",
        "4. Predictable Behavior\n",
        "\n",
        "Because strings cannot change, operations like slicing or concatenation always create new strings rather than modifying the original.\n",
        "\n",
        "This reduces unexpected side effects in code.\n"
      ],
      "metadata": {
        "id": "2X3GpnYaAsRC"
      }
    },
    {
      "cell_type": "markdown",
      "source": [
        "11. What advantages do dictionaries offer over lists for certain tasks?\n",
        "\n",
        "- Dictionaries offer several advantages over lists, especially when you need fast lookups, organized data, or key-based access. Here's a detailed explanation:\n",
        "\n",
        "1. Fast Access Using Keys\n",
        "\n",
        "Dictionaries allow you to access values directly by their key, which is much faster than searching through a list.\n",
        "\n",
        "Lists: You need to iterate to find a value (O(n) time).\n",
        "\n",
        "Dictionaries: Access is almost instantaneous (O(1) time) because of the underlying hash table.\n",
        "\n",
        "2. Key-Value Organization\n",
        "\n",
        "Dictionaries store data as key-value pairs, making it easy to associate related information.\n",
        "\n",
        "Lists only store values, so you would need extra structure to store related data.\n",
        "\n",
        "3. Avoid Duplicates for Keys\n",
        "\n",
        "Keys in a dictionary are unique, so you don’t accidentally overwrite or duplicate important identifiers.\n",
        "\n",
        "Lists allow duplicates, which may require extra checks.\n",
        "\n",
        "4. Flexible Data Access\n",
        "\n",
        "With dictionaries, you can directly access, modify, or delete any value by its key without worrying about the order.\n",
        "\n",
        "With lists, you often need to know the index or search for the value.\n",
        "\n",
        "5. Supports Complex Operations\n",
        "\n",
        "Dictionaries are ideal for tasks like counting occurrences, grouping data, or building maps where key-based access simplifies the logic.\n"
      ],
      "metadata": {
        "id": "P7GXiKf5AsU-"
      }
    },
    {
      "cell_type": "markdown",
      "source": [
        "12. Describe a scenario where using a tuple would be preferable over a list?\n",
        "\n",
        "- Suppose you are building a mapping application and need to store GPS coordinates (latitude, longitude) for multiple locations.\n",
        "\n",
        "Each coordinate should not change once stored.\n",
        "\n",
        "You also want to use these coordinates as keys in a dictionary for fast lookups.\n",
        "\n",
        "- Why tuple is better here:\n",
        "\n",
        "Immutability: Coordinates shouldn’t be accidentally modified.\n",
        "\n",
        "Hashable: Tuples can be used as dictionary keys, whereas lists cannot.\n",
        "\n",
        "Performance: Tuples use less memory and are slightly faster than lists for fixed data."
      ],
      "metadata": {
        "id": "skZxqApqAsYD"
      }
    },
    {
      "cell_type": "code",
      "source": [
        "#example for using tuple for coordinates\n",
        "\n",
        "location_map = {(19., 72.): \"Mumbai\", (28, 77): \"pune\"}\n",
        "\n",
        "print(location_map[(19., 72.)])\n",
        "\n"
      ],
      "metadata": {
        "colab": {
          "base_uri": "https://localhost:8080/"
        },
        "id": "0kr3B5HwEAf0",
        "outputId": "2df0fe60-2b69-456b-b157-82723ad42799"
      },
      "execution_count": null,
      "outputs": [
        {
          "output_type": "stream",
          "name": "stdout",
          "text": [
            "Mumbai\n"
          ]
        }
      ]
    },
    {
      "cell_type": "markdown",
      "source": [
        "13. How do sets handle duplicate values in Python?\n",
        "- In Python, sets automatically handle duplicate values by removing them. This is one of the defining features of a set.\n",
        "- Key Points:\n",
        "\n",
        "Sets contain only unique elements.\n",
        "\n",
        "Duplicates are ignored when adding items.\n",
        "\n",
        "Order is not guaranteed (sets are unordered)."
      ],
      "metadata": {
        "id": "gBSXdkDmAsbB"
      }
    },
    {
      "cell_type": "markdown",
      "source": [
        "14. How does the “in” keyword work differently for lists and dictionaries?\n",
        "\n",
        "- The in keyword in Python is used to check membership, but its behavior differs slightly for lists and dictionaries. Let’s break it down carefully.\n",
        "\n",
        "1. in with Lists\n",
        "\n",
        "Checks if a value exists anywhere in the list.\n",
        "\n",
        "The list is searched element by element (linear search).\n",
        "\n",
        "2. in with Dictionaries\n",
        "\n",
        "By default, in checks keys only, not values.\n",
        "\n",
        "It does not search the dictionary values unless you explicitly specify .values()."
      ],
      "metadata": {
        "id": "EjJDNWKPAseA"
      }
    },
    {
      "cell_type": "markdown",
      "source": [
        "15. Can you modify the elements of a tuple? Explain why or why not?\n",
        "\n",
        "- No, you cannot modify the elements of a tuple in Python. This is because tuples are immutable, meaning their contents cannot be changed after they are created.\n",
        "\n",
        "-Why Tuples Are Immutable\n",
        "\n",
        "a) Immutability ensures data integrity:\n",
        "\n",
        "Once a tuple is created, its values cannot be accidentally changed, making it reliable for fixed data like coordinates or constant configurations.\n",
        "\n",
        "b) Hashability:\n",
        "\n",
        "Tuples can be used as keys in dictionaries or elements in sets because their hash value does not change.\n",
        "\n",
        "If you could modify a tuple, its hash would change, breaking the dictionary or set.\n",
        "\n",
        "c) Memory and Performance Efficiency:\n",
        "\n",
        "Tuples use slightly less memory and are faster to access than lists because they are fixed in size and immutable.\n",
        "\n"
      ],
      "metadata": {
        "id": "VQn-vqJ-Ashd"
      }
    },
    {
      "cell_type": "markdown",
      "source": [
        "16. What is a nested dictionary, and give an example of its use case?\n",
        "\n",
        "- A nested dictionary in Python is a dictionary that contains another dictionary (or dictionaries) as its values. This allows you to represent complex, hierarchical data in a structured way."
      ],
      "metadata": {
        "id": "tW1ON0y1Aspz"
      }
    },
    {
      "cell_type": "code",
      "source": [
        "# example of Nested dictionary representing students and their details\n",
        "students = {\"Rohit\": {\"age\": 25,\"grade\": \"A\", \"city\": \"Pune\" },\"Anita\": {\"age\": 22,\"grade\": \"B\", \"city\": \"Mumbai\" }}\n",
        "\n",
        "# Accessing nested values\n",
        "print(students[\"Rohit\"][\"city\"])\n",
        "print(students[\"Anita\"][\"grade\"])\n"
      ],
      "metadata": {
        "colab": {
          "base_uri": "https://localhost:8080/"
        },
        "id": "tUYy3P0OHCsj",
        "outputId": "f558b481-37fd-46fb-b740-bffc9ae6dde9"
      },
      "execution_count": null,
      "outputs": [
        {
          "output_type": "stream",
          "name": "stdout",
          "text": [
            "Pune\n",
            "B\n"
          ]
        }
      ]
    },
    {
      "cell_type": "markdown",
      "source": [
        "17. Describe the time complexity of accessing elements in a dictionary?\n",
        "\n",
        "- In Python, dictionaries are implemented using hash tables, which makes accessing elements very fast.\n",
        "\n",
        "a) Time Complexity of Accessing Elements\n",
        "\n",
        "Access by Key: O(1) on average (constant time)\n",
        "\n",
        "Python uses a hash function to compute the location of the key in memory.\n",
        "\n",
        "This allows the value to be retrieved directly without searching through all elements.\n",
        "\n",
        "b) Why It’s Fast\n",
        "\n",
        "Hashing: Each key is converted to a hash, which maps to a specific index.\n",
        "\n",
        "Direct lookup: The hash allows Python to find the value without iterating over all key-value pairs.\n",
        "\n",
        "c) Worst-Case Scenario\n",
        "\n",
        "O(n) in rare cases (hash collisions)\n",
        "\n",
        "If many keys hash to the same location, Python handles collisions, but access may take longer.\n",
        "\n",
        "In practice, Python’s hash table design keeps collisions very low, so average access remains O(1)."
      ],
      "metadata": {
        "id": "SdJzEb7VHB4n"
      }
    },
    {
      "cell_type": "markdown",
      "source": [
        "18. In what situations are lists preferred over dictionaries?\n",
        "\n",
        "- Lists are preferred over dictionaries in Python in situations where order matters, duplicates are allowed, and data is primarily accessed by position rather than a key.\n",
        "\n",
        " 1. When Order Matters\n",
        "\n",
        "Lists maintain the order of elements.\n",
        "\n",
        "If you need to process items sequentially or keep elements in a specific order, lists are ideal.\n",
        "\n",
        "2. When Duplicates Are Allowed\n",
        "\n",
        "Lists can contain duplicate values.\n",
        "\n",
        "If you need multiple identical elements, lists are better than dictionaries, where keys must be unique.\n",
        "\n",
        "3. When Access by Position Is Needed\n",
        "\n",
        "Lists allow index-based access, which is intuitive for sequences of items.\n",
        "\n",
        "Dictionaries are keyed by unique identifiers, not by position.\n",
        "\n",
        "4. When You Don’t Need Key-Value Mapping\n",
        "\n",
        "If you just need to store a collection of items without associating them with keys, lists are simpler and more natural."
      ],
      "metadata": {
        "id": "5Fymc4E9Hecu"
      }
    },
    {
      "cell_type": "markdown",
      "source": [
        "19. Why are dictionaries considered unordered, and how does that affect data retrieval?\n",
        "\n",
        "- Dictionaries in Python are often described as unordered, meaning that the items are not stored in a guaranteed order. Here’s what that means and how it affects data retrieval:\n",
        "\n",
        "1. Why Dictionaries Are Considered Unordered\n",
        "\n",
        "Python dictionaries are implemented using hash tables.\n",
        "\n",
        "Keys are stored based on their hash values, not the order in which you insert them.\n",
        "\n",
        "This allows fast access (O(1)), but the position of items in memory may not correspond to insertion order.\n",
        "\n",
        "2. How This Affects Data Retrieval\n",
        "\n",
        "a) Access by Key Is Unaffected:\n",
        "\n",
        "You can always retrieve a value using its key, regardless of the order.\n",
        "\n",
        "b) Iteration Order:\n",
        "\n",
        "Before Python 3.7, iterating over a dictionary might give keys in a different order than inserted.\n",
        "\n",
        "After Python 3.7, iteration preserves insertion order.\n",
        "\n",
        "c) Sorting Needs Extra Work:\n",
        "\n",
        "If you need items in a specific order, you have to sort keys or values explicitly using sorted()."
      ],
      "metadata": {
        "id": "oUW23x9KHefn"
      }
    },
    {
      "cell_type": "markdown",
      "source": [
        "20. Explain the difference between a list and a dictionary in terms of data retrieval.\n",
        "\n",
        "A) Access Method:\n",
        "- List: Access by Index (position of item)\n",
        "- Dictionary:Access by Key (unique identifier)\n",
        "\n",
        "B) Time Complexity\n",
        "- List: O(n) for searching value, O(1) for index\n",
        "- O(1) average for key lookup (hash table)\n",
        "\n",
        "C) Order and Retrieval\n",
        "- List: Order matters; you retrieve items by their position.\n",
        "- Dictionary: Order of items doesn’t affect retrieval (Python 3.7+ preserves insertion order, but retrieval is always by key).\n",
        "\n",
        "D) Use Cases\n",
        "- List: Sequential data, collections where order matters, duplicates allowed.\n",
        "- Dictionary: Key-value mappings, fast lookup by key, unique identifiers."
      ],
      "metadata": {
        "id": "R3GptLHjHeie"
      }
    },
    {
      "cell_type": "markdown",
      "source": [
        "#Practical Questions"
      ],
      "metadata": {
        "id": "uav8XcOEHelo"
      }
    },
    {
      "cell_type": "code",
      "source": [
        "# 1 Write a code to create a string with your name and print it?\n",
        "\n",
        "Name = \" Rohit\"\n",
        "\n",
        "print(\"Name:\", Name)\n"
      ],
      "metadata": {
        "colab": {
          "base_uri": "https://localhost:8080/"
        },
        "id": "6w1tsT9jY5gS",
        "outputId": "d4c41d9c-8cb4-4b9c-81dd-e8b56b58ada0"
      },
      "execution_count": 2,
      "outputs": [
        {
          "output_type": "stream",
          "name": "stdout",
          "text": [
            "Name:  Rohit\n"
          ]
        }
      ]
    },
    {
      "cell_type": "code",
      "source": [
        "# 2 Write a code to find the length of the string \"Hello World\"?\n",
        "\n",
        "Str = \"Hello World\"\n",
        "\n",
        "print(\"length of the string:\", len(Str))"
      ],
      "metadata": {
        "colab": {
          "base_uri": "https://localhost:8080/"
        },
        "id": "NwE427c-ZdTW",
        "outputId": "727c4524-8d5f-449e-b378-6f9ae8518319"
      },
      "execution_count": 5,
      "outputs": [
        {
          "output_type": "stream",
          "name": "stdout",
          "text": [
            "length of the string: 11\n"
          ]
        }
      ]
    },
    {
      "cell_type": "code",
      "source": [
        "# 3 Write a code to slice the first 3 characters from the string \"Python Programming\"?\n",
        "\n",
        "str = \"Python Programming\"\n",
        "\n",
        "print(\"First 3 characters from the string:\", (str[:3]))\n",
        "\n"
      ],
      "metadata": {
        "colab": {
          "base_uri": "https://localhost:8080/"
        },
        "id": "I0vaMcs_ZdP0",
        "outputId": "b6c00cd5-2ae2-4580-9111-5f2148cc462c"
      },
      "execution_count": 7,
      "outputs": [
        {
          "output_type": "stream",
          "name": "stdout",
          "text": [
            "First 3 characters from the string: Pyt\n"
          ]
        }
      ]
    },
    {
      "cell_type": "code",
      "source": [
        "# 4 Write a code to convert the string \"hello\" to uppercase?\n",
        "\n",
        "str = \"hello\"\n",
        "\n",
        "print(\"uppercase:\", str.upper())"
      ],
      "metadata": {
        "colab": {
          "base_uri": "https://localhost:8080/"
        },
        "id": "kF4c0ZGyZdNT",
        "outputId": "b2c44478-b139-489c-8ec5-8bec0b4a12d9"
      },
      "execution_count": 10,
      "outputs": [
        {
          "output_type": "stream",
          "name": "stdout",
          "text": [
            "uppercase: HELLO\n"
          ]
        }
      ]
    },
    {
      "cell_type": "code",
      "source": [
        "# 5 Write a code to replace the word \"apple\" with \"orange\" in the string \"I like apple\"?\n",
        "\n",
        "str = \"i like apple\"\n",
        "\n",
        "replaced_str = str.replace(\"apple\", \"orange\")\n",
        "\n",
        "print(\"Replace the word:\", replaced_str )"
      ],
      "metadata": {
        "colab": {
          "base_uri": "https://localhost:8080/"
        },
        "id": "zuc7ZwflZdKy",
        "outputId": "6bb4d899-199b-49b6-bbc6-2e18ea79d0d4"
      },
      "execution_count": 11,
      "outputs": [
        {
          "output_type": "stream",
          "name": "stdout",
          "text": [
            "Replace the word: i like orange\n"
          ]
        }
      ]
    },
    {
      "cell_type": "code",
      "source": [
        "# 6 Write a code to create a list with numbers 1 to 5 and print it?\n",
        "\n",
        "Number = [1, 2, 3, 4, 5]\n",
        "\n",
        "print(\"List with Number:\", Number)"
      ],
      "metadata": {
        "colab": {
          "base_uri": "https://localhost:8080/"
        },
        "id": "kQXY9zDrZdIQ",
        "outputId": "085fb9bd-b9a2-4579-8a44-9d5a5783de72"
      },
      "execution_count": 19,
      "outputs": [
        {
          "output_type": "stream",
          "name": "stdout",
          "text": [
            "List with Number: [1, 2, 3, 4, 5]\n"
          ]
        }
      ]
    },
    {
      "cell_type": "code",
      "source": [
        "# 7 Write a code to append the number 10 to the list [1, 2, 3, 4]?\n",
        "\n",
        "Lis = [1, 2 , 3, 4]\n",
        "\n",
        "Lis.append(10)\n",
        "\n",
        "print(\"Append List:\", Lis)"
      ],
      "metadata": {
        "colab": {
          "base_uri": "https://localhost:8080/"
        },
        "id": "y69h2faSZdFv",
        "outputId": "d90bc2de-ea10-410d-9247-57b9fbd3255c"
      },
      "execution_count": 21,
      "outputs": [
        {
          "output_type": "stream",
          "name": "stdout",
          "text": [
            "Append List: [1, 2, 3, 4, 10]\n"
          ]
        }
      ]
    },
    {
      "cell_type": "code",
      "source": [
        "# 8 Write a code to remove the number 3 from the list [1, 2, 3, 4, 5] ?\n",
        "\n",
        "lis = [1,2,3,4]\n",
        "\n",
        "lis.remove(3)\n",
        "\n",
        "print(\"Removed lis:\", lis)"
      ],
      "metadata": {
        "colab": {
          "base_uri": "https://localhost:8080/"
        },
        "id": "PTOfMqXvZdC1",
        "outputId": "a0a98f30-39ca-4db8-8806-621ab226b39e"
      },
      "execution_count": 26,
      "outputs": [
        {
          "output_type": "stream",
          "name": "stdout",
          "text": [
            "Removed lis: [1, 2, 4]\n"
          ]
        }
      ]
    },
    {
      "cell_type": "code",
      "source": [
        "# 9 Write a code to access the second element in the list ['a', 'b', 'c', 'd']?\n",
        "\n",
        "lis = [ 'a', 'b', 'c', 'd']\n",
        "\n",
        "print(\" second element in the list:\", lis[1])"
      ],
      "metadata": {
        "colab": {
          "base_uri": "https://localhost:8080/"
        },
        "id": "5zRtC2QGZc1r",
        "outputId": "f9ede1a6-9e7d-436f-8d99-4aa9937b9e66"
      },
      "execution_count": 27,
      "outputs": [
        {
          "output_type": "stream",
          "name": "stdout",
          "text": [
            " second element in the list: b\n"
          ]
        }
      ]
    },
    {
      "cell_type": "code",
      "source": [
        "# 10 Write a code to reverse the list [10, 20, 30, 40, 50]?\n",
        "\n",
        "lis = [10, 20, 30, 40, 50]\n",
        "\n",
        "lis.reverse()\n",
        "\n",
        "print(\" Reversed list:\", lis)"
      ],
      "metadata": {
        "colab": {
          "base_uri": "https://localhost:8080/"
        },
        "id": "MyL565qMfTPr",
        "outputId": "bc130452-6024-4f3c-d659-45911ec539de"
      },
      "execution_count": 28,
      "outputs": [
        {
          "output_type": "stream",
          "name": "stdout",
          "text": [
            " Reversed list: [50, 40, 30, 20, 10]\n"
          ]
        }
      ]
    },
    {
      "cell_type": "code",
      "source": [
        "# 11 Write a code to create a tuple with the elements 100, 200, 300 and print it.?\n",
        "\n",
        "tup = (100, 200, 300)\n",
        "\n",
        "print(\"Tuple list:\", tup)"
      ],
      "metadata": {
        "colab": {
          "base_uri": "https://localhost:8080/"
        },
        "id": "1xKEd35cfTUW",
        "outputId": "539e8b28-120b-42e7-9f04-e9829b6f90e0"
      },
      "execution_count": 30,
      "outputs": [
        {
          "output_type": "stream",
          "name": "stdout",
          "text": [
            "Tuple list: (100, 200, 300)\n"
          ]
        }
      ]
    },
    {
      "cell_type": "code",
      "source": [
        "# 12 Write a code to access the second-to-last element of the tuple ('red', 'green', 'blue', 'yellow')?\n",
        "\n",
        "tup = ('red', 'green', 'blue', 'yellow')\n",
        "\n",
        "print(\" second to last:\", tup[1:4])\n",
        "print(\" second last:\", tup[-2])\n",
        "\n",
        "# i dint both 'second to last' and 'second last' i was confused with the word second-to-last"
      ],
      "metadata": {
        "colab": {
          "base_uri": "https://localhost:8080/"
        },
        "id": "DiDpBIfwfTf3",
        "outputId": "5ee46a22-cd36-456f-815c-d6a4ad9d1cc5"
      },
      "execution_count": 34,
      "outputs": [
        {
          "output_type": "stream",
          "name": "stdout",
          "text": [
            " second to last: ('green', 'blue', 'yellow')\n",
            " second last: blue\n"
          ]
        }
      ]
    },
    {
      "cell_type": "code",
      "source": [
        "# 13 Write a code to find the minimum number in the tuple (10, 20, 5, 15)?\n",
        "\n",
        "tup = (10, 20, 5, 15)\n",
        "\n",
        "print(\"Minimun number is :\", min(tup))"
      ],
      "metadata": {
        "colab": {
          "base_uri": "https://localhost:8080/"
        },
        "id": "NbuwfbYDfTmL",
        "outputId": "c0a0bfd7-dea6-4f58-c084-97b9e48fa66c"
      },
      "execution_count": 35,
      "outputs": [
        {
          "output_type": "stream",
          "name": "stdout",
          "text": [
            "Minimun number is : 5\n"
          ]
        }
      ]
    },
    {
      "cell_type": "code",
      "source": [
        "# 14 Write a code to find the index of the element \"cat\" in the tuple ('dog', 'cat', 'rabbit')?\n",
        "\n",
        "tup = ('dog', 'cat', 'rabbit')\n",
        "\n",
        "print(\" Index of the cat is:\", tup.index('cat'))"
      ],
      "metadata": {
        "colab": {
          "base_uri": "https://localhost:8080/"
        },
        "id": "Puf8yFQcfTrS",
        "outputId": "0ae6336e-c719-489f-8abb-ace3e55bc0ba"
      },
      "execution_count": 36,
      "outputs": [
        {
          "output_type": "stream",
          "name": "stdout",
          "text": [
            " Index of the cat is: 1\n"
          ]
        }
      ]
    },
    {
      "cell_type": "code",
      "source": [
        "# 15 Write a code to create a tuple containing three different fruits and check if \"kiwi\" is in it?\n",
        "\n",
        "fruits = (\"apple\", \"Orange\", \"Mango\")\n",
        "\n",
        "if \"kiwi\" in fruits:\n",
        "  print(\"kiwi is in the bag\")\n",
        "else:\n",
        "    print(\"kiwi is not in the bag\")"
      ],
      "metadata": {
        "colab": {
          "base_uri": "https://localhost:8080/"
        },
        "id": "MUNpbX5afTwt",
        "outputId": "edba4966-c266-4d73-f72a-619e374a67e9"
      },
      "execution_count": 40,
      "outputs": [
        {
          "output_type": "stream",
          "name": "stdout",
          "text": [
            "kiwi is not in the bag\n"
          ]
        }
      ]
    },
    {
      "cell_type": "code",
      "source": [
        "# 16 Write a code to create a set with the elements 'a', 'b', 'c' and print it?\n",
        "\n",
        "letter = {'a', 'b','c'}\n",
        "\n",
        "print(\"set is:\", letter)"
      ],
      "metadata": {
        "colab": {
          "base_uri": "https://localhost:8080/"
        },
        "id": "z5_kNtfdfT0F",
        "outputId": "bb2d848c-ccdd-4e7b-c25a-272823159801"
      },
      "execution_count": 51,
      "outputs": [
        {
          "output_type": "stream",
          "name": "stdout",
          "text": [
            "set is: {'a', 'b', 'c'}\n"
          ]
        }
      ]
    },
    {
      "cell_type": "code",
      "source": [
        "# 17 Write a code to clear all elements from the set {1, 2, 3, 4, 5}?\n",
        "\n",
        "num = {1, 2, 3, 4, 5}\n",
        "\n",
        "num_clear = num.clear()\n",
        "\n",
        "print(\"Clear set:\", num_clear)"
      ],
      "metadata": {
        "colab": {
          "base_uri": "https://localhost:8080/"
        },
        "id": "qozXmvlZlCTe",
        "outputId": "9b4a3c02-85c2-4bd3-cdbc-c6a35b0b7678"
      },
      "execution_count": 52,
      "outputs": [
        {
          "output_type": "stream",
          "name": "stdout",
          "text": [
            "Clear set: None\n"
          ]
        }
      ]
    },
    {
      "cell_type": "code",
      "source": [
        "# 18 Write a code to remove the element 4 from the set {1, 2, 3, 4}?\n",
        "\n",
        "num = {1, 2, 3, 4,}\n",
        "\n",
        "num.remove(4)\n",
        "\n",
        "print(\"Remove number:\", num)"
      ],
      "metadata": {
        "colab": {
          "base_uri": "https://localhost:8080/"
        },
        "id": "GwjRbFQ2m0Ap",
        "outputId": "d045e156-09c7-4721-cb18-3072b67314c2"
      },
      "execution_count": 54,
      "outputs": [
        {
          "output_type": "stream",
          "name": "stdout",
          "text": [
            "Remove number: {1, 2, 3}\n"
          ]
        }
      ]
    },
    {
      "cell_type": "code",
      "source": [
        "# 19 Write a code to find the union of two sets {1, 2, 3} and {3, 4, 5}?\n",
        "\n",
        "set1 = {1, 2, 3}\n",
        "set2 = {3, 4, 5}\n",
        "\n",
        "set3 = set1.union(set2)\n",
        "\n",
        "print(\"Union of two sets:\", set3)"
      ],
      "metadata": {
        "colab": {
          "base_uri": "https://localhost:8080/"
        },
        "id": "HAAdtLlul9X1",
        "outputId": "abab7c28-b2b6-4e97-ea2d-33bf984ac718"
      },
      "execution_count": 58,
      "outputs": [
        {
          "output_type": "stream",
          "name": "stdout",
          "text": [
            "Union of two sets: {1, 2, 3, 4, 5}\n"
          ]
        }
      ]
    },
    {
      "cell_type": "code",
      "source": [
        "# 20 Write a code to find the intersection of two sets {1, 2, 3} and {2, 3, 4}?\n",
        "\n",
        "set1 = {1, 2, 3}\n",
        "set2 = {2, 3, 4}\n",
        "\n",
        "set3 = set1.intersection(set2)\n",
        "\n",
        "print(\"Intersection of two sets:\", set3)"
      ],
      "metadata": {
        "colab": {
          "base_uri": "https://localhost:8080/"
        },
        "id": "JK-I-hJqoCqB",
        "outputId": "c61dfac3-7135-4d3f-d7e2-dddcd712f2c1"
      },
      "execution_count": 59,
      "outputs": [
        {
          "output_type": "stream",
          "name": "stdout",
          "text": [
            "Intersection of two sets: {2, 3}\n"
          ]
        }
      ]
    },
    {
      "cell_type": "code",
      "source": [
        "# 21 Write a code to create a dictionary with the keys \"name\", \"age\", and \"city\", and print it ?\n",
        "\n",
        "empl = {\"name:rohit\", \"age:25\", \"city:mumbai\"}\n",
        "\n",
        "print(\"dictionary:\", empl)"
      ],
      "metadata": {
        "colab": {
          "base_uri": "https://localhost:8080/"
        },
        "id": "QCVuATXQoCyb",
        "outputId": "2ca30f24-caca-4fc8-ad4d-1ee93486d905"
      },
      "execution_count": 62,
      "outputs": [
        {
          "output_type": "stream",
          "name": "stdout",
          "text": [
            "dictionary: {'name:rohit', 'city:mumbai', 'age:25'}\n"
          ]
        }
      ]
    },
    {
      "cell_type": "code",
      "source": [
        "# 22  Write a code to add a new key-value pair \"country\": \"USA\" to the dictionary {'name': 'John', 'age': 25}.?\n",
        "\n",
        "empl = {'name': 'John', 'age': 25}\n",
        "\n",
        "empl[\"country\"] = \"USA\"\n",
        "\n",
        "print(\"Add new key-value pair:\", empl)"
      ],
      "metadata": {
        "colab": {
          "base_uri": "https://localhost:8080/"
        },
        "id": "edLTKXVIoC6D",
        "outputId": "9a839eda-a77a-4ec4-bbab-014b015ca4ac"
      },
      "execution_count": 63,
      "outputs": [
        {
          "output_type": "stream",
          "name": "stdout",
          "text": [
            "Add new key-value pair: {'name': 'John', 'age': 25, 'country': 'USA'}\n"
          ]
        }
      ]
    },
    {
      "cell_type": "code",
      "source": [
        "# 23 Write a code to access the value associated with the key \"name\" in the dictionary {'name': 'Alice', 'age': 30}.\n",
        "\n",
        "empl = {'name': 'Alice', 'age': 30}\n",
        "\n",
        "print(\"Name:\", empl[\"name\"])"
      ],
      "metadata": {
        "colab": {
          "base_uri": "https://localhost:8080/"
        },
        "id": "FcPQBpVQoDA7",
        "outputId": "a8fba07a-d768-4b97-8822-52a5bc921285"
      },
      "execution_count": 64,
      "outputs": [
        {
          "output_type": "stream",
          "name": "stdout",
          "text": [
            "Name: Alice\n"
          ]
        }
      ]
    },
    {
      "cell_type": "code",
      "source": [
        "# 24 Write a code to remove the key \"age\" from the dictionary {'name': 'Bob', 'age': 22, 'city': 'New York'}.\n",
        "\n",
        "empl = {'name': 'Bob', 'age': 22, 'city': 'New York'}\n",
        "\n",
        "empl.pop(\"age\")\n",
        "\n",
        "print(\"Remove age:\", empl)"
      ],
      "metadata": {
        "colab": {
          "base_uri": "https://localhost:8080/"
        },
        "id": "8IDL-rVjoDHd",
        "outputId": "7d384b39-4004-483e-c800-2d2968ac0cd2"
      },
      "execution_count": 65,
      "outputs": [
        {
          "output_type": "stream",
          "name": "stdout",
          "text": [
            "Remove age: {'name': 'Bob', 'city': 'New York'}\n"
          ]
        }
      ]
    },
    {
      "cell_type": "code",
      "source": [
        "# 25 Write a code to check if the key \"city\" exists in the dictionary {'name': 'Alice', 'city': 'Paris'}.\n",
        "\n",
        "empl = {'name': 'Alice', 'city': 'Paris'}\n",
        "\n",
        "if \"city\" in empl:\n",
        "  print(\"city is present in the dictionary\")\n",
        "else:\n",
        "  print(\"city is not present in the dictionary\")"
      ],
      "metadata": {
        "colab": {
          "base_uri": "https://localhost:8080/"
        },
        "id": "JdonyHmzqsVJ",
        "outputId": "442ac4e0-68b8-4d41-cf90-d720cf77646f"
      },
      "execution_count": 66,
      "outputs": [
        {
          "output_type": "stream",
          "name": "stdout",
          "text": [
            "city is present in the dictionary\n"
          ]
        }
      ]
    },
    {
      "cell_type": "code",
      "source": [
        "# 26 Write a code to create a list, a tuple, and a dictionary, and print them all.?\n",
        "\n",
        "lis = [1, 2, 3, 4]\n",
        "tup = (1, 2, 3, 4)\n",
        "empl = {'name: Rohit', 'age: 25', 'city: Mumbai'}\n",
        "\n",
        "print(\"List:\", lis)\n",
        "print(\"Tuple:\", tup)\n",
        "print(\"Dictionary:\", empl)"
      ],
      "metadata": {
        "colab": {
          "base_uri": "https://localhost:8080/"
        },
        "id": "-NsKYUhzrVpD",
        "outputId": "80da1a8a-2b19-4809-82be-2fb12a0ab7ce"
      },
      "execution_count": 67,
      "outputs": [
        {
          "output_type": "stream",
          "name": "stdout",
          "text": [
            "List: [1, 2, 3, 4]\n",
            "Tuple: (1, 2, 3, 4)\n",
            "Dictionary: {'city: Mumbai', 'name: Rohit', 'age: 25'}\n"
          ]
        }
      ]
    },
    {
      "cell_type": "code",
      "source": [
        "# 27  Write a code to create a list of 5 random numbers between 1 and 100, sort it in ascending order, and print the result.(replaced) ?\n",
        "\n",
        "import random\n",
        "num = [random.randint(1, 100) for _ in range(5)]\n",
        "\n",
        "num.sort()\n",
        "\n",
        "print(\"Ascending order:\", num)"
      ],
      "metadata": {
        "colab": {
          "base_uri": "https://localhost:8080/"
        },
        "id": "yisCMf1Rr9KW",
        "outputId": "c188f445-1642-4e03-8c80-7b68b8d833f7"
      },
      "execution_count": 76,
      "outputs": [
        {
          "output_type": "stream",
          "name": "stdout",
          "text": [
            "Ascending order: [12, 32, 34, 36, 99]\n"
          ]
        }
      ]
    },
    {
      "cell_type": "code",
      "source": [
        "# 28 Write a code to create a list with strings and print the element at the third index.?\n",
        "\n",
        "lis = [\"Rohit\", \"Vijy\", \"Ajay\", \"Rahul\"]\n",
        "\n",
        "print(\"third index:\", lis[2])"
      ],
      "metadata": {
        "colab": {
          "base_uri": "https://localhost:8080/"
        },
        "id": "kb7gDWYFsl_K",
        "outputId": "a6fc13f5-306d-4491-a178-643a3bb1b55e"
      },
      "execution_count": 78,
      "outputs": [
        {
          "output_type": "stream",
          "name": "stdout",
          "text": [
            "third index: Ajay\n"
          ]
        }
      ]
    },
    {
      "cell_type": "code",
      "source": [
        "# 29 Write a code to combine two dictionaries into one and print the result.?\n",
        "\n",
        "empl1 = { 'Name': 'Rohit','Age': '25'}\n",
        "empl2 = {'Section': 'HR', 'City': 'Mumbai'}\n",
        "\n",
        "empl = {**empl1, **empl2}\n",
        "\n",
        "print(\"Combine two dictionaries:\", empl)"
      ],
      "metadata": {
        "colab": {
          "base_uri": "https://localhost:8080/"
        },
        "id": "5dj_qBC3u3z7",
        "outputId": "b5159801-aa9e-45c3-bbd1-565c580117f6"
      },
      "execution_count": 84,
      "outputs": [
        {
          "output_type": "stream",
          "name": "stdout",
          "text": [
            "Combine two dictionaries: {'Name': 'Rohit', 'Age': '25', 'Section': 'HR', 'City': 'Mumbai'}\n"
          ]
        }
      ]
    },
    {
      "cell_type": "code",
      "source": [
        "# 30 Write a code to convert a list of strings into a set.?\n",
        "\n",
        "lis = [\"Rohit\", \"Vijy\", \"Ajay\", \"Rahul\"]\n",
        "\n",
        "set1 = set(lis)\n",
        "\n",
        "print(\"list of strings into a set:\", set1)"
      ],
      "metadata": {
        "colab": {
          "base_uri": "https://localhost:8080/"
        },
        "id": "MY8heSxLwXwH",
        "outputId": "71cd7019-0082-403e-e039-eeb4b2928d01"
      },
      "execution_count": 88,
      "outputs": [
        {
          "output_type": "stream",
          "name": "stdout",
          "text": [
            "list of strings into a set: {'Rahul', 'Rohit', 'Vijy', 'Ajay'}\n"
          ]
        }
      ]
    },
    {
      "cell_type": "code",
      "source": [],
      "metadata": {
        "id": "zwWHVPUYxo_T"
      },
      "execution_count": null,
      "outputs": []
    }
  ]
}